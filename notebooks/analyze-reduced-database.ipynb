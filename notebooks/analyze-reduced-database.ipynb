{
 "cells": [
  {
   "cell_type": "code",
   "execution_count": 1,
   "id": "887ab74d",
   "metadata": {},
   "outputs": [],
   "source": [
    "%matplotlib inline"
   ]
  },
  {
   "cell_type": "code",
   "execution_count": 2,
   "id": "51ba3c54",
   "metadata": {},
   "outputs": [],
   "source": [
    "import pandas as pd\n",
    "import matplotlib.pyplot as plt\n",
    "import seaborn as sns\n",
    "import numpy as np"
   ]
  },
  {
   "cell_type": "code",
   "execution_count": 3,
   "id": "eef18fd4",
   "metadata": {},
   "outputs": [
    {
     "name": "stdout",
     "output_type": "stream",
     "text": [
      "analyze-reduced-database.ipynb  silva_nr99_v138.1_wSpecies_train_set.fa\r\n",
      "asv.fasta                       silva_nr99_v138.1_wSpecies_train_set-v4.fa\r\n",
      "cut-primers.py                  taxa.csv\r\n",
      "primer-locs.tsv                 v4-primers.fa\r\n",
      "README.org                      v4-primers-rev.fa\r\n"
     ]
    }
   ],
   "source": [
    "!ls"
   ]
  },
  {
   "cell_type": "code",
   "execution_count": 4,
   "id": "81fe0e9c",
   "metadata": {},
   "outputs": [
    {
     "data": {
      "text/html": [
       "<div>\n",
       "<style scoped>\n",
       "    .dataframe tbody tr th:only-of-type {\n",
       "        vertical-align: middle;\n",
       "    }\n",
       "\n",
       "    .dataframe tbody tr th {\n",
       "        vertical-align: top;\n",
       "    }\n",
       "\n",
       "    .dataframe thead th {\n",
       "        text-align: right;\n",
       "    }\n",
       "</style>\n",
       "<table border=\"1\" class=\"dataframe\">\n",
       "  <thead>\n",
       "    <tr style=\"text-align: right;\">\n",
       "      <th></th>\n",
       "      <th>#seqname</th>\n",
       "      <th>desc</th>\n",
       "      <th>primer_index</th>\n",
       "      <th>primer_name</th>\n",
       "      <th>position</th>\n",
       "      <th>mismatches</th>\n",
       "      <th>seq_primer_region</th>\n",
       "    </tr>\n",
       "  </thead>\n",
       "  <tbody>\n",
       "    <tr>\n",
       "      <th>0</th>\n",
       "      <td>Bacteria;Proteobacteria;Gammaproteobacteria;Ps...</td>\n",
       "      <td>NaN</td>\n",
       "      <td>1</td>\n",
       "      <td>515f</td>\n",
       "      <td>528</td>\n",
       "      <td>0</td>\n",
       "      <td>GTGCCAGCAGCCGCGGTAA</td>\n",
       "    </tr>\n",
       "    <tr>\n",
       "      <th>1</th>\n",
       "      <td>Bacteria;Proteobacteria;Gammaproteobacteria;Ps...</td>\n",
       "      <td>NaN</td>\n",
       "      <td>2</td>\n",
       "      <td>806r</td>\n",
       "      <td>801</td>\n",
       "      <td>3</td>\n",
       "      <td>ATTAGATACCCTGGTAGTCC</td>\n",
       "    </tr>\n",
       "    <tr>\n",
       "      <th>2</th>\n",
       "      <td>Bacteria;Proteobacteria;Gammaproteobacteria;En...</td>\n",
       "      <td>NaN</td>\n",
       "      <td>1</td>\n",
       "      <td>515f</td>\n",
       "      <td>702</td>\n",
       "      <td>0</td>\n",
       "      <td>GTGCCAGCAGCCGCGGTAA</td>\n",
       "    </tr>\n",
       "    <tr>\n",
       "      <th>3</th>\n",
       "      <td>Bacteria;Proteobacteria;Gammaproteobacteria;En...</td>\n",
       "      <td>NaN</td>\n",
       "      <td>2</td>\n",
       "      <td>806r</td>\n",
       "      <td>975</td>\n",
       "      <td>3</td>\n",
       "      <td>ATTAGATACCCTGGTAGTCC</td>\n",
       "    </tr>\n",
       "    <tr>\n",
       "      <th>4</th>\n",
       "      <td>Bacteria;Actinobacteriota;Actinobacteria;Actin...</td>\n",
       "      <td>NaN</td>\n",
       "      <td>1</td>\n",
       "      <td>515f</td>\n",
       "      <td>417</td>\n",
       "      <td>0</td>\n",
       "      <td>GTGCCAGCAGCCGCGGTAA</td>\n",
       "    </tr>\n",
       "  </tbody>\n",
       "</table>\n",
       "</div>"
      ],
      "text/plain": [
       "                                            #seqname desc  primer_index  \\\n",
       "0  Bacteria;Proteobacteria;Gammaproteobacteria;Ps...  NaN             1   \n",
       "1  Bacteria;Proteobacteria;Gammaproteobacteria;Ps...  NaN             2   \n",
       "2  Bacteria;Proteobacteria;Gammaproteobacteria;En...  NaN             1   \n",
       "3  Bacteria;Proteobacteria;Gammaproteobacteria;En...  NaN             2   \n",
       "4  Bacteria;Actinobacteriota;Actinobacteria;Actin...  NaN             1   \n",
       "\n",
       "  primer_name  position  mismatches     seq_primer_region  \n",
       "0        515f       528           0   GTGCCAGCAGCCGCGGTAA  \n",
       "1        806r       801           3  ATTAGATACCCTGGTAGTCC  \n",
       "2        515f       702           0   GTGCCAGCAGCCGCGGTAA  \n",
       "3        806r       975           3  ATTAGATACCCTGGTAGTCC  \n",
       "4        515f       417           0   GTGCCAGCAGCCGCGGTAA  "
      ]
     },
     "execution_count": 4,
     "metadata": {},
     "output_type": "execute_result"
    }
   ],
   "source": [
    "df = pd.read_table(\"primer-locs.tsv\")\n",
    "df.head()"
   ]
  },
  {
   "cell_type": "code",
   "execution_count": 5,
   "id": "03cf7552",
   "metadata": {},
   "outputs": [
    {
     "data": {
      "text/plain": [
       "904128"
      ]
     },
     "execution_count": 5,
     "metadata": {},
     "output_type": "execute_result"
    }
   ],
   "source": [
    "len(df)"
   ]
  },
  {
   "cell_type": "code",
   "execution_count": 6,
   "id": "5af8e24f",
   "metadata": {},
   "outputs": [
    {
     "name": "stderr",
     "output_type": "stream",
     "text": [
      "/home/jvkersch/miniconda3/envs/data-analysis/lib/python3.8/site-packages/seaborn/axisgrid.py:316: UserWarning: The `size` parameter has been renamed to `height`; please update your code.\n",
      "  warnings.warn(msg, UserWarning)\n",
      "/home/jvkersch/miniconda3/envs/data-analysis/lib/python3.8/site-packages/seaborn/axisgrid.py:643: UserWarning: Using the countplot function without specifying `order` is likely to produce an incorrect plot.\n",
      "  warnings.warn(warning)\n"
     ]
    },
    {
     "data": {
      "text/plain": [
       "<seaborn.axisgrid.FacetGrid at 0x7fdc537e6e80>"
      ]
     },
     "execution_count": 6,
     "metadata": {},
     "output_type": "execute_result"
    },
    {
     "data": {
      "image/png": "[encoded data removed]",
      "text/plain": [
       "<Figure size 720x360 with 2 Axes>"
      ]
     },
     "metadata": {
      "needs_background": "light"
     },
     "output_type": "display_data"
    }
   ],
   "source": [
    "g = sns.FacetGrid(data=df, col=\"primer_index\", size=5)\n",
    "g.map(sns.countplot, \"mismatches\")"
   ]
  },
  {
   "cell_type": "code",
   "execution_count": 7,
   "id": "87c48e50",
   "metadata": {},
   "outputs": [
    {
     "data": {
      "text/plain": [
       "ATTAGATACCCTGGTAGTCC    90\n",
       "CTTAGATACCCTGGTAGTCC     3\n",
       "ATTAGATACCCCGGTAGTCC     2\n",
       "ATTAGAGACCCTGGTAGTCC     1\n",
       "ATTAGATACCCCTGTAGTCC     1\n",
       "ATTAGATAACCTGGTAGTCC     1\n",
       "ATTAGATACCCTAGTAGTCC     1\n",
       "GATTAGATACCTGGTAGTAC     1\n",
       "Name: seq_primer_region, dtype: int64"
      ]
     },
     "execution_count": 7,
     "metadata": {},
     "output_type": "execute_result"
    }
   ],
   "source": [
    "df[df.primer_index == 2].seq_primer_region.iloc[:100].value_counts()"
   ]
  },
  {
   "cell_type": "code",
   "execution_count": 8,
   "id": "bd7d98f9",
   "metadata": {},
   "outputs": [
    {
     "name": "stdout",
     "output_type": "stream",
     "text": [
      "ATTAGATACCCTGGTAGTCC\n",
      "ATTAGAWADDDBDGTAGTCC\n"
     ]
    }
   ],
   "source": [
    "# W = AT, D = AGT, B = CGT\n",
    "print(\"ATTAGATACCCTGGTAGTCC\")\n",
    "print(\"ATTAGAWADDDBDGTAGTCC\")"
   ]
  },
  {
   "cell_type": "code",
   "execution_count": 9,
   "id": "81040c4b",
   "metadata": {},
   "outputs": [
    {
     "data": {
      "text/plain": [
       "False"
      ]
     },
     "execution_count": 9,
     "metadata": {},
     "output_type": "execute_result"
    }
   ],
   "source": [
    "any(df.loc[df.primer_index == 1, '#seqname'].to_numpy() != df.loc[df.primer_index == 2, '#seqname'].to_numpy())"
   ]
  },
  {
   "cell_type": "code",
   "execution_count": 10,
   "id": "3c219df4",
   "metadata": {},
   "outputs": [
    {
     "data": {
      "text/plain": [
       "50.631296"
      ]
     },
     "execution_count": 10,
     "metadata": {},
     "output_type": "execute_result"
    }
   ],
   "source": [
    "df.memory_usage().sum() / 1000 / 1000"
   ]
  },
  {
   "cell_type": "code",
   "execution_count": 12,
   "id": "196765a3",
   "metadata": {},
   "outputs": [],
   "source": [
    "# Switch to a wide dataframe. We don't do this with a join, which would exhaust the \n",
    "# available memory. Instead, we rely on the fact that fwd/rev rows are interleaved.\n",
    "\n",
    "df_1 = df[df.primer_index == 1]\n",
    "df_2 = df[df.primer_index == 2]\n",
    "\n",
    "seqname = df_1[\"#seqname\"].to_numpy()\n",
    "pos_1 = df_1[\"position\"].to_numpy()\n",
    "pos_2 = df_2[\"position\"].to_numpy()\n",
    "mismatches_1 = df_1[\"mismatches\"].to_numpy()\n",
    "mismatches_2 = df_2[\"mismatches\"].to_numpy()\n",
    "\n",
    "df_wide = pd.DataFrame(data={\n",
    "    \"position_1\": pos_1,\n",
    "    \"position_2\": pos_2,\n",
    "    \"mismatches_1\": mismatches_1,\n",
    "    \"mismatches_2\": mismatches_2}, index=seqname)"
   ]
  },
  {
   "cell_type": "code",
   "execution_count": 13,
   "id": "8e102e96",
   "metadata": {},
   "outputs": [
    {
     "data": {
      "text/html": [
       "<div>\n",
       "<style scoped>\n",
       "    .dataframe tbody tr th:only-of-type {\n",
       "        vertical-align: middle;\n",
       "    }\n",
       "\n",
       "    .dataframe tbody tr th {\n",
       "        vertical-align: top;\n",
       "    }\n",
       "\n",
       "    .dataframe thead th {\n",
       "        text-align: right;\n",
       "    }\n",
       "</style>\n",
       "<table border=\"1\" class=\"dataframe\">\n",
       "  <thead>\n",
       "    <tr style=\"text-align: right;\">\n",
       "      <th></th>\n",
       "      <th>position_1</th>\n",
       "      <th>position_2</th>\n",
       "      <th>mismatches_1</th>\n",
       "      <th>mismatches_2</th>\n",
       "    </tr>\n",
       "  </thead>\n",
       "  <tbody>\n",
       "    <tr>\n",
       "      <th>Bacteria;Proteobacteria;Gammaproteobacteria;Pseudomonadales;Pseudomonadaceae;Pseudomonas;amygdali;</th>\n",
       "      <td>528</td>\n",
       "      <td>801</td>\n",
       "      <td>0</td>\n",
       "      <td>3</td>\n",
       "    </tr>\n",
       "    <tr>\n",
       "      <th>Bacteria;Proteobacteria;Gammaproteobacteria;Enterobacterales;Pectobacteriaceae;Dickeya;phage;</th>\n",
       "      <td>702</td>\n",
       "      <td>975</td>\n",
       "      <td>0</td>\n",
       "      <td>3</td>\n",
       "    </tr>\n",
       "    <tr>\n",
       "      <th>Bacteria;Actinobacteriota;Actinobacteria;Actinomycetales;Actinomycetaceae;F0332;</th>\n",
       "      <td>417</td>\n",
       "      <td>688</td>\n",
       "      <td>0</td>\n",
       "      <td>3</td>\n",
       "    </tr>\n",
       "    <tr>\n",
       "      <th>Bacteria;Firmicutes;Bacilli;Lactobacillales;Streptococcaceae;Streptococcus;equi;</th>\n",
       "      <td>495</td>\n",
       "      <td>767</td>\n",
       "      <td>0</td>\n",
       "      <td>4</td>\n",
       "    </tr>\n",
       "    <tr>\n",
       "      <th>Bacteria;Firmicutes;Bacilli;Lactobacillales;Streptococcaceae;Streptococcus;porcinus;</th>\n",
       "      <td>524</td>\n",
       "      <td>796</td>\n",
       "      <td>0</td>\n",
       "      <td>3</td>\n",
       "    </tr>\n",
       "  </tbody>\n",
       "</table>\n",
       "</div>"
      ],
      "text/plain": [
       "                                                    position_1  position_2  \\\n",
       "Bacteria;Proteobacteria;Gammaproteobacteria;Pse...         528         801   \n",
       "Bacteria;Proteobacteria;Gammaproteobacteria;Ent...         702         975   \n",
       "Bacteria;Actinobacteriota;Actinobacteria;Actino...         417         688   \n",
       "Bacteria;Firmicutes;Bacilli;Lactobacillales;Str...         495         767   \n",
       "Bacteria;Firmicutes;Bacilli;Lactobacillales;Str...         524         796   \n",
       "\n",
       "                                                    mismatches_1  mismatches_2  \n",
       "Bacteria;Proteobacteria;Gammaproteobacteria;Pse...             0             3  \n",
       "Bacteria;Proteobacteria;Gammaproteobacteria;Ent...             0             3  \n",
       "Bacteria;Actinobacteriota;Actinobacteria;Actino...             0             3  \n",
       "Bacteria;Firmicutes;Bacilli;Lactobacillales;Str...             0             4  \n",
       "Bacteria;Firmicutes;Bacilli;Lactobacillales;Str...             0             3  "
      ]
     },
     "execution_count": 13,
     "metadata": {},
     "output_type": "execute_result"
    }
   ],
   "source": [
    "df_wide.head()"
   ]
  },
  {
   "cell_type": "code",
   "execution_count": 14,
   "id": "17dd0b6f",
   "metadata": {},
   "outputs": [],
   "source": [
    "df_wide[\"v4_length\"] = df_wide[\"position_2\"] - df_wide[\"position_1\"] - len(\"GTGCCAGCMGCCGCGGTAA\")"
   ]
  },
  {
   "cell_type": "code",
   "execution_count": 16,
   "id": "6846f0d2",
   "metadata": {},
   "outputs": [
    {
     "data": {
      "image/png": "[encoded data removed]",
      "text/plain": [
       "<Figure size 432x288 with 1 Axes>"
      ]
     },
     "metadata": {
      "needs_background": "light"
     },
     "output_type": "display_data"
    }
   ],
   "source": [
    "v4_length = df_wide.v4_length\n",
    "v4_length.plot.hist(bins=25);"
   ]
  },
  {
   "cell_type": "code",
   "execution_count": 17,
   "id": "087f5b75",
   "metadata": {},
   "outputs": [
    {
     "data": {
      "text/plain": [
       "254.0"
      ]
     },
     "execution_count": 17,
     "metadata": {},
     "output_type": "execute_result"
    }
   ],
   "source": [
    "v4_length.median()"
   ]
  },
  {
   "cell_type": "code",
   "execution_count": 18,
   "id": "5db17f7e",
   "metadata": {},
   "outputs": [],
   "source": [
    "df_wide_filtered = df_wide.loc[(v4_length > 250) & (v4_length < 300)]"
   ]
  },
  {
   "cell_type": "code",
   "execution_count": 19,
   "id": "1e954ebd",
   "metadata": {},
   "outputs": [
    {
     "data": {
      "text/plain": [
       "435008"
      ]
     },
     "execution_count": 19,
     "metadata": {},
     "output_type": "execute_result"
    }
   ],
   "source": [
    "len(df_wide_filtered)"
   ]
  },
  {
   "cell_type": "code",
   "execution_count": 20,
   "id": "2b525a20",
   "metadata": {},
   "outputs": [
    {
     "data": {
      "text/html": [
       "<div>\n",
       "<style scoped>\n",
       "    .dataframe tbody tr th:only-of-type {\n",
       "        vertical-align: middle;\n",
       "    }\n",
       "\n",
       "    .dataframe tbody tr th {\n",
       "        vertical-align: top;\n",
       "    }\n",
       "\n",
       "    .dataframe thead th {\n",
       "        text-align: right;\n",
       "    }\n",
       "</style>\n",
       "<table border=\"1\" class=\"dataframe\">\n",
       "  <thead>\n",
       "    <tr style=\"text-align: right;\">\n",
       "      <th></th>\n",
       "      <th>position_1</th>\n",
       "      <th>position_2</th>\n",
       "      <th>mismatches_1</th>\n",
       "      <th>mismatches_2</th>\n",
       "      <th>v4_length</th>\n",
       "    </tr>\n",
       "  </thead>\n",
       "  <tbody>\n",
       "    <tr>\n",
       "      <th>Bacteria;Proteobacteria;Gammaproteobacteria;Pseudomonadales;Pseudomonadaceae;Pseudomonas;amygdali;</th>\n",
       "      <td>528</td>\n",
       "      <td>801</td>\n",
       "      <td>0</td>\n",
       "      <td>3</td>\n",
       "      <td>254</td>\n",
       "    </tr>\n",
       "    <tr>\n",
       "      <th>Bacteria;Proteobacteria;Gammaproteobacteria;Enterobacterales;Pectobacteriaceae;Dickeya;phage;</th>\n",
       "      <td>702</td>\n",
       "      <td>975</td>\n",
       "      <td>0</td>\n",
       "      <td>3</td>\n",
       "      <td>254</td>\n",
       "    </tr>\n",
       "    <tr>\n",
       "      <th>Bacteria;Actinobacteriota;Actinobacteria;Actinomycetales;Actinomycetaceae;F0332;</th>\n",
       "      <td>417</td>\n",
       "      <td>688</td>\n",
       "      <td>0</td>\n",
       "      <td>3</td>\n",
       "      <td>252</td>\n",
       "    </tr>\n",
       "    <tr>\n",
       "      <th>Bacteria;Firmicutes;Bacilli;Lactobacillales;Streptococcaceae;Streptococcus;equi;</th>\n",
       "      <td>495</td>\n",
       "      <td>767</td>\n",
       "      <td>0</td>\n",
       "      <td>4</td>\n",
       "      <td>253</td>\n",
       "    </tr>\n",
       "    <tr>\n",
       "      <th>Bacteria;Firmicutes;Bacilli;Lactobacillales;Streptococcaceae;Streptococcus;porcinus;</th>\n",
       "      <td>524</td>\n",
       "      <td>796</td>\n",
       "      <td>0</td>\n",
       "      <td>3</td>\n",
       "      <td>253</td>\n",
       "    </tr>\n",
       "  </tbody>\n",
       "</table>\n",
       "</div>"
      ],
      "text/plain": [
       "                                                    position_1  position_2  \\\n",
       "Bacteria;Proteobacteria;Gammaproteobacteria;Pse...         528         801   \n",
       "Bacteria;Proteobacteria;Gammaproteobacteria;Ent...         702         975   \n",
       "Bacteria;Actinobacteriota;Actinobacteria;Actino...         417         688   \n",
       "Bacteria;Firmicutes;Bacilli;Lactobacillales;Str...         495         767   \n",
       "Bacteria;Firmicutes;Bacilli;Lactobacillales;Str...         524         796   \n",
       "\n",
       "                                                    mismatches_1  \\\n",
       "Bacteria;Proteobacteria;Gammaproteobacteria;Pse...             0   \n",
       "Bacteria;Proteobacteria;Gammaproteobacteria;Ent...             0   \n",
       "Bacteria;Actinobacteriota;Actinobacteria;Actino...             0   \n",
       "Bacteria;Firmicutes;Bacilli;Lactobacillales;Str...             0   \n",
       "Bacteria;Firmicutes;Bacilli;Lactobacillales;Str...             0   \n",
       "\n",
       "                                                    mismatches_2  v4_length  \n",
       "Bacteria;Proteobacteria;Gammaproteobacteria;Pse...             3        254  \n",
       "Bacteria;Proteobacteria;Gammaproteobacteria;Ent...             3        254  \n",
       "Bacteria;Actinobacteriota;Actinobacteria;Actino...             3        252  \n",
       "Bacteria;Firmicutes;Bacilli;Lactobacillales;Str...             4        253  \n",
       "Bacteria;Firmicutes;Bacilli;Lactobacillales;Str...             3        253  "
      ]
     },
     "execution_count": 20,
     "metadata": {},
     "output_type": "execute_result"
    }
   ],
   "source": [
    "df_wide_filtered.head()"
   ]
  },
  {
   "cell_type": "code",
   "execution_count": 22,
   "id": "a5aba541",
   "metadata": {},
   "outputs": [
    {
     "data": {
      "image/png": "[encoded data removed]",
      "text/plain": [
       "<Figure size 432x288 with 1 Axes>"
      ]
     },
     "metadata": {
      "needs_background": "light"
     },
     "output_type": "display_data"
    }
   ],
   "source": [
    "v4_length_filtered = df_wide_filtered.v4_length\n",
    "v4_length_filtered.plot.hist(bins=25);"
   ]
  },
  {
   "cell_type": "code",
   "execution_count": 23,
   "id": "b967969a",
   "metadata": {},
   "outputs": [
    {
     "data": {
      "image/png": "[encoded data removed]",
      "text/plain": [
       "<Figure size 432x288 with 1 Axes>"
      ]
     },
     "metadata": {
      "needs_background": "light"
     },
     "output_type": "display_data"
    }
   ],
   "source": [
    "sns.countplot(x=df_wide_filtered.mismatches_2);"
   ]
  },
  {
   "cell_type": "code",
   "execution_count": null,
   "id": "e52f453f",
   "metadata": {},
   "outputs": [],
   "source": []
  }
 ],
 "metadata": {
  "kernelspec": {
   "display_name": "Python 3",
   "language": "python",
   "name": "python3"
  },
  "language_info": {
   "codemirror_mode": {
    "name": "ipython",
    "version": 3
   },
   "file_extension": ".py",
   "mimetype": "text/x-python",
   "name": "python",
   "nbconvert_exporter": "python",
   "pygments_lexer": "ipython3",
   "version": "3.8.11"
  }
 },
 "nbformat": 4,
 "nbformat_minor": 5
}
